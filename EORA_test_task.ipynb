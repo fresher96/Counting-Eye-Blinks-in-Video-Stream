{
  "nbformat": 4,
  "nbformat_minor": 0,
  "metadata": {
    "colab": {
      "name": "EORA-test-task.ipynb",
      "provenance": [],
      "collapsed_sections": [],
      "mount_file_id": "16Fl4k41hpmdlCcaaIASjvm1YNvfEuLrs",
      "authorship_tag": "ABX9TyN5WhT7AF5nQ1kguNZs+GTF",
      "include_colab_link": true
    },
    "kernelspec": {
      "name": "python3",
      "display_name": "Python 3"
    }
  },
  "cells": [
    {
      "cell_type": "markdown",
      "metadata": {
        "id": "view-in-github",
        "colab_type": "text"
      },
      "source": [
        "<a href=\"https://colab.research.google.com/github/fresher96/counting-eye-blinks-in-a-video-stream/blob/master/EORA_test_task.ipynb\" target=\"_parent\"><img src=\"https://colab.research.google.com/assets/colab-badge.svg\" alt=\"Open In Colab\"/></a>"
      ]
    },
    {
      "cell_type": "code",
      "metadata": {
        "id": "-AOU6z34vURg",
        "colab_type": "code",
        "colab": {}
      },
      "source": [
        "drive = 'drive/My Drive/colab/'\n",
        "videoFile = drive + 'sample.mp4';\n",
        "\n",
        "# drive = 'E:/CLCs/drive/colab/'\n",
        "# videoFile = 0;"
      ],
      "execution_count": 0,
      "outputs": []
    },
    {
      "cell_type": "code",
      "metadata": {
        "id": "J00mpTBPscLb",
        "colab_type": "code",
        "colab": {}
      },
      "source": [
        "# import the necessary packages\n",
        "from scipy.spatial import distance as dist\n",
        "from imutils.video import FileVideoStream\n",
        "from imutils.video import VideoStream\n",
        "from imutils import face_utils\n",
        "import numpy as np\n",
        "import argparse\n",
        "import imutils\n",
        "import time\n",
        "import dlib\n",
        "import cv2"
      ],
      "execution_count": 0,
      "outputs": []
    },
    {
      "cell_type": "code",
      "metadata": {
        "id": "vAHW4ZzNs345",
        "colab_type": "code",
        "colab": {}
      },
      "source": [
        "def eye_aspect_ratio(eye):\n",
        "\t# compute the euclidean distances between the two sets of\n",
        "\t# vertical eye landmarks (x, y)-coordinates\n",
        "\tA = dist.euclidean(eye[1], eye[5])\n",
        "\tB = dist.euclidean(eye[2], eye[4])\n",
        "\t# compute the euclidean distance between the horizontal\n",
        "\t# eye landmark (x, y)-coordinates\n",
        "\tC = dist.euclidean(eye[0], eye[3])\n",
        "\t# compute the eye aspect ratio\n",
        "\tear = (A + B) / (2.0 * C)\n",
        "\t# return the eye aspect ratio\n",
        "\treturn ear"
      ],
      "execution_count": 0,
      "outputs": []
    },
    {
      "cell_type": "code",
      "metadata": {
        "id": "Fl-yvd6Atcgt",
        "colab_type": "code",
        "colab": {}
      },
      "source": [
        "# define two constants, one for the eye aspect ratio to indicate\n",
        "# blink and then a second constant for the number of consecutive\n",
        "# frames the eye must be below the threshold\n",
        "EYE_AR_THRESH = 0.3\n",
        "EYE_AR_CONSEC_FRAMES = 3\n",
        "# initialize the frame counters and the total number of blinks\n",
        "COUNTER = 0\n",
        "TOTAL = 0"
      ],
      "execution_count": 0,
      "outputs": []
    },
    {
      "cell_type": "code",
      "metadata": {
        "id": "3Q8sr29ot6cB",
        "colab_type": "code",
        "colab": {}
      },
      "source": [
        "# initialize dlib's face detector (HOG-based) and then create\n",
        "# the facial landmark predictor\n",
        "print(\"[INFO] loading facial landmark predictor...\")\n",
        "detector = dlib.get_frontal_face_detector()\n",
        "predictor = dlib.shape_predictor(args[\"shape_predictor\"])"
      ],
      "execution_count": 0,
      "outputs": []
    },
    {
      "cell_type": "code",
      "metadata": {
        "id": "SV-XoCAsuoDJ",
        "colab_type": "code",
        "colab": {}
      },
      "source": [
        "# grab the indexes of the facial landmarks for the left and\n",
        "# right eye, respectively\n",
        "(lStart, lEnd) = face_utils.FACIAL_LANDMARKS_IDXS[\"left_eye\"]\n",
        "(rStart, rEnd) = face_utils.FACIAL_LANDMARKS_IDXS[\"right_eye\"]"
      ],
      "execution_count": 0,
      "outputs": []
    },
    {
      "cell_type": "code",
      "metadata": {
        "id": "nFItlbIduwHC",
        "colab_type": "code",
        "colab": {}
      },
      "source": [
        "# start the video stream thread\n",
        "print(\"[INFO] starting video stream thread...\")\n",
        "if(videoFile != 0):\n",
        "    vs = FileVideoStream(videoFile).start()\n",
        "    fileStream = True\n",
        "else:\n",
        "    vs = VideoStream(src=0).start()\n",
        "    fileStream = False\n",
        "time.sleep(1.0)"
      ],
      "execution_count": 0,
      "outputs": []
    },
    {
      "cell_type": "code",
      "metadata": {
        "id": "4BXLO4dWvpo4",
        "colab_type": "code",
        "colab": {}
      },
      "source": [
        "# loop over frames from the video stream\n",
        "while True:\n",
        "\t# if this is a file video stream, then we need to check if\n",
        "\t# there any more frames left in the buffer to process\n",
        "\tif fileStream and not vs.more():\n",
        "\t\tbreak\n",
        "\t# grab the frame from the threaded video file stream, resize\n",
        "\t# it, and convert it to grayscale\n",
        "\t# channels)\n",
        "\tframe = vs.read()\n",
        "\tframe = imutils.resize(frame, width=450)\n",
        "\tgray = cv2.cvtColor(frame, cv2.COLOR_BGR2GRAY)\n",
        "\t# detect faces in the grayscale frame\n",
        "\trects = detector(gray, 0)\n",
        "    \n",
        "\n",
        " \t# loop over the face detections\n",
        "\tfor rect in rects:\n",
        "\t\t# determine the facial landmarks for the face region, then\n",
        "\t\t# convert the facial landmark (x, y)-coordinates to a NumPy\n",
        "\t\t# array\n",
        "\t\tshape = predictor(gray, rect)\n",
        "\t\tshape = face_utils.shape_to_np(shape)\n",
        "\t\t# extract the left and right eye coordinates, then use the\n",
        "\t\t# coordinates to compute the eye aspect ratio for both eyes\n",
        "\t\tleftEye = shape[lStart:lEnd]\n",
        "\t\trightEye = shape[rStart:rEnd]\n",
        "\t\tleftEAR = eye_aspect_ratio(leftEye)\n",
        "\t\trightEAR = eye_aspect_ratio(rightEye)\n",
        "\t\t# average the eye aspect ratio together for both eyes\n",
        "\t\tear = (leftEAR + rightEAR) / 2.0\n",
        "\n",
        "        # compute the convex hull for the left and right eye, then\n",
        "\t\t# visualize each of the eyes\n",
        "\t\tleftEyeHull = cv2.convexHull(leftEye)\n",
        "\t\trightEyeHull = cv2.convexHull(rightEye)\n",
        "\t\tcv2.drawContours(frame, [leftEyeHull],  -1, (0, 255, 0), 1)\n",
        "\t\tcv2.drawContours(frame, [rightEyeHull], -1, (0, 255, 0), 1)\n",
        "\n",
        "\n",
        "        # check to see if the eye aspect ratio is below the blink\n",
        "\t\t# threshold, and if so, increment the blink frame counter\n",
        "\t\tif ear < EYE_AR_THRESH:\n",
        "\t\t\tCOUNTER += 1\n",
        "\t\t# otherwise, the eye aspect ratio is not below the blink\n",
        "\t\t# threshold\n",
        "\t\telse:\n",
        "\t\t\t# if the eyes were closed for a sufficient number of\n",
        "\t\t\t# then increment the total number of blinks\n",
        "\t\t\tif COUNTER >= EYE_AR_CONSEC_FRAMES:\n",
        "\t\t\t\tTOTAL += 1\n",
        "\t\t\t# reset the eye frame counter\n",
        "\t\t\tCOUNTER = 0\n",
        "\n",
        "        # draw the total number of blinks on the frame along with\n",
        "\t\t# the computed eye aspect ratio for the frame\n",
        "\t\tcv2.putText(frame, \"Blinks: {}\".format(TOTAL), (10, 30),\n",
        "\t\t\tcv2.FONT_HERSHEY_SIMPLEX, 0.7, (0, 0, 255), 2)\n",
        "\t\tcv2.putText(frame, \"EAR: {:.2f}\".format(ear), (300, 30),\n",
        "\t\t\tcv2.FONT_HERSHEY_SIMPLEX, 0.7, (0, 0, 255), 2)\n",
        " \n",
        "\n",
        "\t# show the frame\n",
        "\tcv2.imshow(\"Frame\", frame)\n",
        "\tkey = cv2.waitKey(1) & 0xFF\n",
        " \n",
        "\t# if the `q` key was pressed, break from the loop\n",
        "\tif key == ord(\"q\"):\n",
        "\t\tbreak\n",
        "\n",
        "\n",
        "# do a bit of cleanup\n",
        "cv2.destroyAllWindows()\n",
        "vs.stop()"
      ],
      "execution_count": 0,
      "outputs": []
    }
  ]
}