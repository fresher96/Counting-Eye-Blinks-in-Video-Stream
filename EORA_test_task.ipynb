{
 "cells": [
  {
   "cell_type": "markdown",
   "metadata": {
    "colab_type": "text",
    "id": "view-in-github"
   },
   "source": [
    "<a href=\"https://colab.research.google.com/github/fresher96/counting-eye-blinks-in-a-video-stream/blob/master/EORA_test_task.ipynb\" target=\"_parent\"><img src=\"https://colab.research.google.com/assets/colab-badge.svg\" alt=\"Open In Colab\"/></a>"
   ]
  },
  {
   "cell_type": "code",
   "execution_count": 71,
   "metadata": {},
   "outputs": [],
   "source": [
    "from os import environ;\n",
    "videoFile = environ.get('file', 0);"
   ]
  },
  {
   "cell_type": "code",
   "execution_count": 58,
   "metadata": {
    "colab": {},
    "colab_type": "code",
    "id": "-AOU6z34vURg"
   },
   "outputs": [],
   "source": [
    "drive = 'E:/CLCs/drive/colab/';\n",
    "# videoFile = 0;\n",
    "# videoFile = drive + 'videos/offline-demo.mp4';\n",
    "\n",
    "# drive = 'drive/My Drive/colab/';\n",
    "# videoFile = drive + 'videos/offline-demo.mp4';\n",
    "\n",
    "\n",
    "dlib_predictor = drive + 'shape_predictor_68_face_landmarks.dat';\n",
    "outputPath = drive + 'output.mp4'\n",
    "defaultFPS = 10"
   ]
  },
  {
   "cell_type": "code",
   "execution_count": 63,
   "metadata": {
    "colab": {},
    "colab_type": "code",
    "id": "J00mpTBPscLb"
   },
   "outputs": [],
   "source": [
    "# import the necessary packages\n",
    "from scipy.spatial import distance as dist\n",
    "from imutils.video import FileVideoStream\n",
    "from imutils.video import VideoStream\n",
    "from imutils import face_utils\n",
    "import numpy as np\n",
    "import argparse\n",
    "import imutils\n",
    "import time\n",
    "import dlib\n",
    "import cv2"
   ]
  },
  {
   "cell_type": "code",
   "execution_count": 6,
   "metadata": {
    "colab": {},
    "colab_type": "code",
    "id": "vAHW4ZzNs345"
   },
   "outputs": [],
   "source": [
    "def eye_aspect_ratio(eye):\n",
    "    # compute the euclidean distances between the two sets of\n",
    "    # vertical eye landmarks (x, y)-coordinates\n",
    "    A = dist.euclidean(eye[1], eye[5])\n",
    "    B = dist.euclidean(eye[2], eye[4])\n",
    "    # compute the euclidean distance between the horizontal\n",
    "    # eye landmark (x, y)-coordinates\n",
    "    C = dist.euclidean(eye[0], eye[3])\n",
    "    # compute the eye aspect ratio\n",
    "    ear = (A + B) / (2.0 * C)\n",
    "    # return the eye aspect ratio\n",
    "    return ear"
   ]
  },
  {
   "cell_type": "code",
   "execution_count": 7,
   "metadata": {
    "colab": {
     "base_uri": "https://localhost:8080/",
     "height": 35
    },
    "colab_type": "code",
    "id": "3Q8sr29ot6cB",
    "outputId": "f6091fba-e80c-4a8b-db6e-f5973a563cea"
   },
   "outputs": [
    {
     "name": "stdout",
     "output_type": "stream",
     "text": [
      "[INFO] loading facial landmark predictor...\n"
     ]
    }
   ],
   "source": [
    "# initialize dlib's face detector (HOG-based) and then create\n",
    "# the facial landmark predictor\n",
    "print(\"[INFO] loading facial landmark predictor...\")\n",
    "detector = dlib.get_frontal_face_detector()\n",
    "predictor = dlib.shape_predictor(dlib_predictor)"
   ]
  },
  {
   "cell_type": "code",
   "execution_count": 8,
   "metadata": {
    "colab": {},
    "colab_type": "code",
    "id": "SV-XoCAsuoDJ"
   },
   "outputs": [],
   "source": [
    "# grab the indexes of the facial landmarks for the left and\n",
    "# right eye, respectively\n",
    "(lStart, lEnd) = face_utils.FACIAL_LANDMARKS_IDXS[\"left_eye\"]\n",
    "(rStart, rEnd) = face_utils.FACIAL_LANDMARKS_IDXS[\"right_eye\"]"
   ]
  },
  {
   "cell_type": "code",
   "execution_count": 42,
   "metadata": {
    "colab": {},
    "colab_type": "code",
    "id": "VQovEhpM8aZc"
   },
   "outputs": [],
   "source": [
    "class videoDownloader():\n",
    "    \"\"\"\n",
    "    This class takes care of saving the resulting output video stream \\\n",
    "    on the hard disk\n",
    "    \"\"\"\n",
    "\n",
    "    def __init__(self, fps = defaultFPS, totalNumberOfFrames = 'inf', path = outputPath):\n",
    "        self.outputVideo = None;\n",
    "        self.path = path;\n",
    "        self.fps = fps;\n",
    "        self.currentFrame = 0;\n",
    "        self.totalNumberOfFrames = totalNumberOfFrames;\n",
    "\n",
    "    def stop(self):\n",
    "        self.outputVideo.release();\n",
    "\n",
    "    def putFrame(self, frame):\n",
    "        self.currentFrame += 1;\n",
    "        if(self.currentFrame%25 == 0):\n",
    "            print(f'processing frame {self.currentFrame} out of {self.totalNumberOfFrames}');\n",
    "\n",
    "        if(self.outputVideo is None):\n",
    "            height = frame.shape[0];\n",
    "            width  = frame.shape[1];\n",
    "            fourcc = cv2.VideoWriter_fourcc(*'XVID');\n",
    "            self.outputVideo = cv2.VideoWriter(self.path, fourcc, self.fps, (width, height), 1);\n",
    "\n",
    "        self.outputVideo.write(frame);"
   ]
  },
  {
   "cell_type": "code",
   "execution_count": 59,
   "metadata": {
    "colab": {
     "base_uri": "https://localhost:8080/",
     "height": 35
    },
    "colab_type": "code",
    "id": "nFItlbIduwHC",
    "outputId": "4a7fa29e-511d-4ae2-f42e-4b1b87438092"
   },
   "outputs": [
    {
     "name": "stdout",
     "output_type": "stream",
     "text": [
      "[INFO] starting video stream thread...\n",
      "10.0\n"
     ]
    }
   ],
   "source": [
    "# start the video stream thread\n",
    "print(\"[INFO] starting video stream thread...\")\n",
    "\n",
    "if(videoFile != 0):\n",
    "#     vs = FileVideoStream(videoFile).start()\n",
    "    capture = cv2.VideoCapture(videoFile)\n",
    "    fileStream = True\n",
    "    fps = capture.get(cv2.CAP_PROP_FPS)\n",
    "    print(fps)\n",
    "    tot = int(capture.get(cv2.CAP_PROP_FRAME_COUNT))\n",
    "    downloader = videoDownloader(fps, tot)\n",
    "else:\n",
    "#     vs = VideoStream(src=0).start()\n",
    "    capture = cv2.VideoCapture(0)\n",
    "    fileStream = False\n",
    "    fps = defaultFPS;\n",
    "    capture.set(cv2.CAP_PROP_FPS, fps)\n",
    "    print(capture.get(cv2.CAP_PROP_FPS))\n",
    "    downloader = videoDownloader(fps)\n",
    "    \n",
    "time.sleep(1.0)\n",
    "\n",
    "\n",
    "# define two constants, one for the eye aspect ratio to indicate\n",
    "# blink and then a second constant for the number of consecutive\n",
    "# frames the eye must be below the threshold\n",
    "EYE_AR_THRESH = 0.2\n",
    "EYE_AR_CONSEC_FRAMES = 2\n",
    "EYE_AR_CONSEC_FRAMES_ALERT = fps * 2; # 2 seconds of frames\n",
    "# initialize the frame counters and the total number of blinks\n",
    "COUNTER = 0\n",
    "TOTAL = 0"
   ]
  },
  {
   "cell_type": "code",
   "execution_count": 60,
   "metadata": {
    "colab": {
     "base_uri": "https://localhost:8080/",
     "height": 182
    },
    "colab_type": "code",
    "id": "4BXLO4dWvpo4",
    "outputId": "1774fab1-f2de-44d6-856c-b73120e710f0"
   },
   "outputs": [
    {
     "name": "stdout",
     "output_type": "stream",
     "text": [
      "processing frame 25 out of inf\n",
      "processing frame 50 out of inf\n",
      "processing frame 75 out of inf\n",
      "processing frame 100 out of inf\n",
      "processing frame 125 out of inf\n",
      "processing frame 150 out of inf\n",
      "processing frame 175 out of inf\n",
      "processing frame 200 out of inf\n",
      "processing frame 225 out of inf\n",
      "processing frame 250 out of inf\n",
      "processing frame 275 out of inf\n",
      "processing frame 300 out of inf\n",
      "processing frame 325 out of inf\n",
      "processing frame 350 out of inf\n",
      "processing frame 375 out of inf\n",
      "processing frame 400 out of inf\n"
     ]
    }
   ],
   "source": [
    "# loop over frames from the video stream\n",
    "while True:\n",
    "    # if this is a file video stream, then we need to check if\n",
    "    # there any more frames left in the buffer to process\n",
    "#     if fileStream and not vs.more():\n",
    "#         break\n",
    "    # grab the frame from the threaded video file stream, resize\n",
    "    # it, and convert it to grayscale\n",
    "    # channels)\n",
    "#     frame = vs.read()\n",
    "\n",
    "    status, frame = capture.read();\n",
    "\n",
    "    if(not status):\n",
    "        break;\n",
    "\n",
    "    frame = imutils.resize(frame, width=800)\n",
    "    gray = cv2.cvtColor(frame, cv2.COLOR_BGR2GRAY)\n",
    "    # detect faces in the grayscale frame\n",
    "    rects = detector(gray, 0)\n",
    "\n",
    "\n",
    "    # loop over the face detections\n",
    "    for rect in rects:\n",
    "        # determine the facial landmarks for the face region, then\n",
    "        # convert the facial landmark (x, y)-coordinates to a NumPy\n",
    "        # array\n",
    "        shape = predictor(gray, rect)\n",
    "        shape = face_utils.shape_to_np(shape)\n",
    "        # extract the left and right eye coordinates, then use the\n",
    "        # coordinates to compute the eye aspect ratio for both eyes\n",
    "        leftEye = shape[lStart:lEnd]\n",
    "        rightEye = shape[rStart:rEnd]\n",
    "        leftEAR = eye_aspect_ratio(leftEye)\n",
    "        rightEAR = eye_aspect_ratio(rightEye)\n",
    "        # average the eye aspect ratio together for both eyes\n",
    "        ear = (leftEAR + rightEAR) / 2.0\n",
    "\n",
    "        # compute the convex hull for the left and right eye, then\n",
    "        # visualize each of the eyes\n",
    "        leftEyeHull = cv2.convexHull(leftEye)\n",
    "        rightEyeHull = cv2.convexHull(rightEye)\n",
    "        cv2.drawContours(frame, [leftEyeHull],  -1, (0, 255, 0), 1)\n",
    "        cv2.drawContours(frame, [rightEyeHull], -1, (0, 255, 0), 1)\n",
    "\n",
    "\n",
    "        # check to see if the eye aspect ratio is below the blink\n",
    "        # threshold, and if so, increment the blink frame counter\n",
    "        if ear < EYE_AR_THRESH:\n",
    "            COUNTER += 1\n",
    "        # otherwise, the eye aspect ratio is not below the blink\n",
    "        # threshold\n",
    "        else:\n",
    "            # if the eyes were closed for a sufficient number of\n",
    "            # then increment the total number of blinks\n",
    "            if EYE_AR_CONSEC_FRAMES <= COUNTER and COUNTER < EYE_AR_CONSEC_FRAMES_ALERT:\n",
    "                TOTAL += 1\n",
    "            # reset the eye frame counter\n",
    "            COUNTER = 0\n",
    "            \n",
    "        alert = COUNTER >= EYE_AR_CONSEC_FRAMES_ALERT;\n",
    "            \n",
    "            \n",
    "\n",
    "        # draw the total number of blinks on the frame along with\n",
    "        # the computed eye aspect ratio for the frame\n",
    "        cv2.putText(frame, \"Blinks: {}\".format(TOTAL), (10, 30),\n",
    "            cv2.FONT_HERSHEY_SIMPLEX, 0.7, (0, 255, 0), 2)\n",
    "#         cv2.putText(frame, \"EAR: {:.2f}\".format(ear), (300, 30),\n",
    "#             cv2.FONT_HERSHEY_SIMPLEX, 0.7, (0, 0, 255), 2)\n",
    "\n",
    "        if alert:\n",
    "            cv2.putText(frame, \"ALERT\", (700, 30),\n",
    "                cv2.FONT_HERSHEY_SIMPLEX, 0.7, (0, 0, 255), 2)\n",
    "\n",
    "\n",
    "    # show the frame\n",
    "    cv2.imshow(\"Frame\", frame)\n",
    "    downloader.putFrame(frame);\n",
    "    key = cv2.waitKey(1) & 0xFF\n",
    "\n",
    "    # if the `q` key was pressed, break from the loop\n",
    "    if key == ord(\"q\"):\n",
    "        break\n",
    "\n",
    "\n",
    "# do a bit of cleanup\n",
    "downloader.stop();\n",
    "# vs.stop()\n",
    "capture.release();\n",
    "cv2.destroyAllWindows()"
   ]
  }
 ],
 "metadata": {
  "colab": {
   "authorship_tag": "ABX9TyNHTm2NoB92ct1ZP2JJqJIW",
   "collapsed_sections": [],
   "include_colab_link": true,
   "mount_file_id": "16Fl4k41hpmdlCcaaIASjvm1YNvfEuLrs",
   "name": "EORA-test-task.ipynb",
   "provenance": []
  },
  "kernelspec": {
   "display_name": "Python 3",
   "language": "python",
   "name": "python3"
  },
  "language_info": {
   "codemirror_mode": {
    "name": "ipython",
    "version": 3
   },
   "file_extension": ".py",
   "mimetype": "text/x-python",
   "name": "python",
   "nbconvert_exporter": "python",
   "pygments_lexer": "ipython3",
   "version": "3.6.5"
  }
 },
 "nbformat": 4,
 "nbformat_minor": 1
}
