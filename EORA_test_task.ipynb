{
  "nbformat": 4,
  "nbformat_minor": 0,
  "metadata": {
    "colab": {
      "name": "EORA-test-task.ipynb",
      "provenance": [],
      "collapsed_sections": [],
      "mount_file_id": "16Fl4k41hpmdlCcaaIASjvm1YNvfEuLrs",
      "authorship_tag": "ABX9TyNHTm2NoB92ct1ZP2JJqJIW",
      "include_colab_link": true
    },
    "kernelspec": {
      "name": "python3",
      "display_name": "Python 3"
    }
  },
  "cells": [
    {
      "cell_type": "markdown",
      "metadata": {
        "id": "view-in-github",
        "colab_type": "text"
      },
      "source": [
        "<a href=\"https://colab.research.google.com/github/fresher96/counting-eye-blinks-in-a-video-stream/blob/master/EORA_test_task.ipynb\" target=\"_parent\"><img src=\"https://colab.research.google.com/assets/colab-badge.svg\" alt=\"Open In Colab\"/></a>"
      ]
    },
    {
      "cell_type": "code",
      "metadata": {
        "id": "-AOU6z34vURg",
        "colab_type": "code",
        "colab": {}
      },
      "source": [
        "drive = 'drive/My Drive/colab/'\n",
        "videoFile = drive + 'videos/offline-demo.mp4';\n",
        "\n",
        "# drive = 'E:/CLCs/drive/colab/'\n",
        "# videoFile = 0;\n",
        "\n",
        "\n",
        "dlib_predictor = drive + 'shape_predictor_68_face_landmarks.dat';\n",
        "outputPath = drive + 'output.mp4'\n",
        "defaultFPS = 15;"
      ],
      "execution_count": 0,
      "outputs": []
    },
    {
      "cell_type": "code",
      "metadata": {
        "id": "J00mpTBPscLb",
        "colab_type": "code",
        "colab": {}
      },
      "source": [
        "# import the necessary packages\n",
        "from scipy.spatial import distance as dist\n",
        "from imutils.video import FileVideoStream\n",
        "from imutils.video import VideoStream\n",
        "from imutils import face_utils\n",
        "import numpy as np\n",
        "import argparse\n",
        "import imutils\n",
        "import time\n",
        "import dlib\n",
        "import cv2"
      ],
      "execution_count": 0,
      "outputs": []
    },
    {
      "cell_type": "code",
      "metadata": {
        "id": "vAHW4ZzNs345",
        "colab_type": "code",
        "colab": {}
      },
      "source": [
        "def eye_aspect_ratio(eye):\n",
        "\t# compute the euclidean distances between the two sets of\n",
        "\t# vertical eye landmarks (x, y)-coordinates\n",
        "\tA = dist.euclidean(eye[1], eye[5])\n",
        "\tB = dist.euclidean(eye[2], eye[4])\n",
        "\t# compute the euclidean distance between the horizontal\n",
        "\t# eye landmark (x, y)-coordinates\n",
        "\tC = dist.euclidean(eye[0], eye[3])\n",
        "\t# compute the eye aspect ratio\n",
        "\tear = (A + B) / (2.0 * C)\n",
        "\t# return the eye aspect ratio\n",
        "\treturn ear"
      ],
      "execution_count": 0,
      "outputs": []
    },
    {
      "cell_type": "code",
      "metadata": {
        "id": "Fl-yvd6Atcgt",
        "colab_type": "code",
        "colab": {}
      },
      "source": [
        "# define two constants, one for the eye aspect ratio to indicate\n",
        "# blink and then a second constant for the number of consecutive\n",
        "# frames the eye must be below the threshold\n",
        "EYE_AR_THRESH = 0.3\n",
        "EYE_AR_CONSEC_FRAMES = 3\n",
        "# initialize the frame counters and the total number of blinks\n",
        "COUNTER = 0\n",
        "TOTAL = 0"
      ],
      "execution_count": 0,
      "outputs": []
    },
    {
      "cell_type": "code",
      "metadata": {
        "id": "3Q8sr29ot6cB",
        "colab_type": "code",
        "colab": {
          "base_uri": "https://localhost:8080/",
          "height": 35
        },
        "outputId": "f6091fba-e80c-4a8b-db6e-f5973a563cea"
      },
      "source": [
        "# initialize dlib's face detector (HOG-based) and then create\n",
        "# the facial landmark predictor\n",
        "print(\"[INFO] loading facial landmark predictor...\")\n",
        "detector = dlib.get_frontal_face_detector()\n",
        "predictor = dlib.shape_predictor(dlib_predictor)"
      ],
      "execution_count": 11,
      "outputs": [
        {
          "output_type": "stream",
          "text": [
            "[INFO] loading facial landmark predictor...\n"
          ],
          "name": "stdout"
        }
      ]
    },
    {
      "cell_type": "code",
      "metadata": {
        "id": "SV-XoCAsuoDJ",
        "colab_type": "code",
        "colab": {}
      },
      "source": [
        "# grab the indexes of the facial landmarks for the left and\n",
        "# right eye, respectively\n",
        "(lStart, lEnd) = face_utils.FACIAL_LANDMARKS_IDXS[\"left_eye\"]\n",
        "(rStart, rEnd) = face_utils.FACIAL_LANDMARKS_IDXS[\"right_eye\"]"
      ],
      "execution_count": 0,
      "outputs": []
    },
    {
      "cell_type": "code",
      "metadata": {
        "id": "VQovEhpM8aZc",
        "colab_type": "code",
        "colab": {}
      },
      "source": [
        "class videoDownloader():\n",
        "    \"\"\"\n",
        "    This class takes care of saving the resulting output video stream\n",
        "    on the hard disk\n",
        "    \"\"\"\n",
        "\n",
        "    def __init__(self, fps: float = defaultFPS, path: str = outputPath):\n",
        "        self.outputVideo = None;\n",
        "        self.path = path;\n",
        "        self.fps = fps;\n",
        "        self.currentFrame = 0;\n",
        "\n",
        "    def stop(self):\n",
        "        self.outputVideo.release();\n",
        "\n",
        "    def putFrame(self, frame):\n",
        "        self.currentFrame += 1;\n",
        "        if(self.currentFrame%25 == 0):\n",
        "            print(f'processing frame number {self.currentFrame}');\n",
        "\n",
        "        if(self.outputVideo is None):\n",
        "            height = frame.shape[0];\n",
        "            width  = frame.shape[1];\n",
        "            fourcc = cv2.VideoWriter_fourcc(*'XVID');\n",
        "            self.outputVideo = cv2.VideoWriter(self.path, fourcc, self.fps, (width, height), 1);\n",
        "\n",
        "        self.outputVideo.write(frame);\n",
        "\n",
        "fps = defaultFPS if not fileStream else cv2.VideoCapture(videoFile).get(cv2.CAP_PROP_FPS);\n",
        "downloader = videoDownloader(fps);"
      ],
      "execution_count": 0,
      "outputs": []
    },
    {
      "cell_type": "code",
      "metadata": {
        "id": "nFItlbIduwHC",
        "colab_type": "code",
        "colab": {
          "base_uri": "https://localhost:8080/",
          "height": 35
        },
        "outputId": "4a7fa29e-511d-4ae2-f42e-4b1b87438092"
      },
      "source": [
        "# start the video stream thread\n",
        "print(\"[INFO] starting video stream thread...\")\n",
        "if(videoFile != 0):\n",
        "    vs = FileVideoStream(videoFile).start()\n",
        "    fileStream = True\n",
        "else:\n",
        "    vs = VideoStream(src=0).start()\n",
        "    fileStream = False\n",
        "time.sleep(1.0)"
      ],
      "execution_count": 67,
      "outputs": [
        {
          "output_type": "stream",
          "text": [
            "[INFO] starting video stream thread...\n"
          ],
          "name": "stdout"
        }
      ]
    },
    {
      "cell_type": "code",
      "metadata": {
        "id": "4BXLO4dWvpo4",
        "colab_type": "code",
        "colab": {
          "base_uri": "https://localhost:8080/",
          "height": 182
        },
        "outputId": "1774fab1-f2de-44d6-856c-b73120e710f0"
      },
      "source": [
        "# loop over frames from the video stream\n",
        "while True:\n",
        "    # if this is a file video stream, then we need to check if\n",
        "    # there any more frames left in the buffer to process\n",
        "    if fileStream and not vs.more():\n",
        "        break\n",
        "    # grab the frame from the threaded video file stream, resize\n",
        "    # it, and convert it to grayscale\n",
        "    # channels)\n",
        "    frame = vs.read()\n",
        "\n",
        "    if(frame is None):\n",
        "        break;\n",
        "\n",
        "    frame = imutils.resize(frame, width=450)\n",
        "    gray = cv2.cvtColor(frame, cv2.COLOR_BGR2GRAY)\n",
        "    # detect faces in the grayscale frame\n",
        "    rects = detector(gray, 0)\n",
        "\n",
        "\n",
        "    # loop over the face detections\n",
        "    for rect in rects:\n",
        "        # determine the facial landmarks for the face region, then\n",
        "        # convert the facial landmark (x, y)-coordinates to a NumPy\n",
        "        # array\n",
        "        shape = predictor(gray, rect)\n",
        "        shape = face_utils.shape_to_np(shape)\n",
        "        # extract the left and right eye coordinates, then use the\n",
        "        # coordinates to compute the eye aspect ratio for both eyes\n",
        "        leftEye = shape[lStart:lEnd]\n",
        "        rightEye = shape[rStart:rEnd]\n",
        "        leftEAR = eye_aspect_ratio(leftEye)\n",
        "        rightEAR = eye_aspect_ratio(rightEye)\n",
        "        # average the eye aspect ratio together for both eyes\n",
        "        ear = (leftEAR + rightEAR) / 2.0\n",
        "\n",
        "        # compute the convex hull for the left and right eye, then\n",
        "        # visualize each of the eyes\n",
        "        leftEyeHull = cv2.convexHull(leftEye)\n",
        "        rightEyeHull = cv2.convexHull(rightEye)\n",
        "        cv2.drawContours(frame, [leftEyeHull],  -1, (0, 255, 0), 1)\n",
        "        cv2.drawContours(frame, [rightEyeHull], -1, (0, 255, 0), 1)\n",
        "\n",
        "\n",
        "        # check to see if the eye aspect ratio is below the blink\n",
        "        # threshold, and if so, increment the blink frame counter\n",
        "        if ear < EYE_AR_THRESH:\n",
        "            COUNTER += 1\n",
        "        # otherwise, the eye aspect ratio is not below the blink\n",
        "        # threshold\n",
        "        else:\n",
        "            # if the eyes were closed for a sufficient number of\n",
        "            # then increment the total number of blinks\n",
        "            if COUNTER >= EYE_AR_CONSEC_FRAMES:\n",
        "                TOTAL += 1\n",
        "            # reset the eye frame counter\n",
        "            COUNTER = 0\n",
        "\n",
        "        # draw the total number of blinks on the frame along with\n",
        "        # the computed eye aspect ratio for the frame\n",
        "        cv2.putText(frame, \"Blinks: {}\".format(TOTAL), (10, 30),\n",
        "            cv2.FONT_HERSHEY_SIMPLEX, 0.7, (0, 0, 255), 2)\n",
        "        cv2.putText(frame, \"EAR: {:.2f}\".format(ear), (300, 30),\n",
        "            cv2.FONT_HERSHEY_SIMPLEX, 0.7, (0, 0, 255), 2)\n",
        "\n",
        "\n",
        "    # show the frame\n",
        "    # cv2.imshow(\"Frame\", frame)\n",
        "    downloader.putFrame(frame);\n",
        "    key = cv2.waitKey(1) & 0xFF\n",
        "\n",
        "    # if the `q` key was pressed, break from the loop\n",
        "    if key == ord(\"q\"):\n",
        "        break\n",
        "\n",
        "\n",
        "downloader.stop();\n",
        "# do a bit of cleanup\n",
        "cv2.destroyAllWindows()\n",
        "vs.stop()"
      ],
      "execution_count": 68,
      "outputs": [
        {
          "output_type": "stream",
          "text": [
            "processing frame number 25\n",
            "processing frame number 50\n",
            "processing frame number 75\n",
            "processing frame number 100\n",
            "processing frame number 125\n",
            "processing frame number 150\n",
            "processing frame number 175\n",
            "processing frame number 200\n",
            "processing frame number 225\n"
          ],
          "name": "stdout"
        }
      ]
    }
  ]
}